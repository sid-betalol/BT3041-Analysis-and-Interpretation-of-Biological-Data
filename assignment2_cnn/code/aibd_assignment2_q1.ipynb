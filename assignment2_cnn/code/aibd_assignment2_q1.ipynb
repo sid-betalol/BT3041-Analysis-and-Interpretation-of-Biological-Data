{
  "cells": [
    {
      "cell_type": "code",
      "execution_count": null,
      "metadata": {
        "colab": {
          "base_uri": "https://localhost:8080/"
        },
        "id": "vPKaVWTzq_oA",
        "outputId": "6516a324-4622-443e-f062-44cd64af0926"
      },
      "outputs": [
        {
          "name": "stdout",
          "output_type": "stream",
          "text": [
            "Drive already mounted at /content/drive; to attempt to forcibly remount, call drive.mount(\"/content/drive\", force_remount=True).\n"
          ]
        }
      ],
      "source": [
        "from google.colab import drive\n",
        "drive.mount('/content/drive')"
      ]
    },
    {
      "cell_type": "markdown",
      "metadata": {
        "id": "sJsU6TM5s1Xc"
      },
      "source": [
        "# Importing the required libraries"
      ]
    },
    {
      "cell_type": "code",
      "execution_count": null,
      "metadata": {
        "id": "ktsCnbqxAxP4"
      },
      "outputs": [],
      "source": [
        "import numpy as np\n",
        "import cupy\n",
        "import matplotlib.pyplot as plt\n",
        "import os\n",
        "import pickle\n",
        "import math\n",
        "import random\n",
        "import cv2"
      ]
    },
    {
      "cell_type": "markdown",
      "metadata": {
        "id": "uqz2WIEis7db"
      },
      "source": [
        "# Function to unpickle the dataset"
      ]
    },
    {
      "cell_type": "code",
      "execution_count": null,
      "metadata": {
        "id": "-cXaMb4mA2zf"
      },
      "outputs": [],
      "source": [
        "def load_data(folder_path):\n",
        "\n",
        "    # Initializing the variables\n",
        "    train = dict()\n",
        "    test = dict()\n",
        "    x_train = []\n",
        "    y_train = []\n",
        "    x_test = []\n",
        "    y_test = []\n",
        "    \n",
        "    # Iterate through all files that we want, train and test\n",
        "    # Train is separated into batches\n",
        "    for filename in os.listdir(folder_path):\n",
        "        if os.path.isfile(os.path.join(folder_path, filename)):\n",
        "            \n",
        "            # The train data\n",
        "            if 'data_batch' in filename:\n",
        "                print('Handing file: %s' % filename)\n",
        "                \n",
        "                # Open the file\n",
        "                with open(folder_path + '/' + filename, 'rb') as fo:\n",
        "                    data = pickle.load(fo, encoding='bytes')\n",
        "\n",
        "                if 'data' not in train:\n",
        "                    train['data'] = data[b'data']\n",
        "                    train['labels'] = np.array(data[b'labels'])\n",
        "                else:\n",
        "                    train['data'] = np.concatenate((train['data'], data[b'data']))\n",
        "                    train['labels'] = np.concatenate((train['labels'], data[b'labels']))\n",
        "            # The test data\n",
        "            elif 'test_batch' in filename:\n",
        "                print('Handing file: %s' % filename)\n",
        "                \n",
        "                # Open the file\n",
        "                with open(folder_path + '/' + filename, 'rb') as fo:\n",
        "                    data = pickle.load(fo, encoding='bytes')\n",
        "                \n",
        "                test['data'] = data[b'data']\n",
        "                test['labels'] = data[b'labels']\n",
        "    \n",
        "    # Manipulate the data to the proper format\n",
        "    for image in train['data']:\n",
        "        x_train.append(np.transpose(np.reshape(image,(3, 32,32)), (1,2,0)))\n",
        "    y_train = [label for label in train['labels']]\n",
        "    \n",
        "    for image in test['data']:\n",
        "        x_test.append(np.transpose(np.reshape(image,(3, 32,32)), (1,2,0)))\n",
        "    y_test = [label for label in test['labels']]\n",
        "    \n",
        "    # Transform the data to np array format\n",
        "    x_train = np.array(x_train)\n",
        "    y_train = np.array(y_train)\n",
        "    x_test = np.array(x_test)\n",
        "    y_test = np.array(y_test)\n",
        "    \n",
        "    return (x_train, y_train), (x_test, y_test)"
      ]
    },
    {
      "cell_type": "markdown",
      "metadata": {
        "id": "bTC0AvXbtxOT"
      },
      "source": [
        "# Loading the dataset"
      ]
    },
    {
      "cell_type": "code",
      "execution_count": null,
      "metadata": {
        "colab": {
          "base_uri": "https://localhost:8080/"
        },
        "id": "RXpT1i10BQwK",
        "outputId": "a0bf93df-21f5-4ff5-c7bd-fc843dca5e69"
      },
      "outputs": [
        {
          "name": "stdout",
          "output_type": "stream",
          "text": [
            "Handing file: test_batch\n",
            "Handing file: data_batch_3\n",
            "Handing file: data_batch_2\n",
            "Handing file: data_batch_5\n",
            "Handing file: data_batch_1\n",
            "Handing file: data_batch_4\n"
          ]
        }
      ],
      "source": [
        "(x_train, y_train), (x_test, y_test) = load_data(os.getcwd() + '/drive/MyDrive/AIBD Assignment 2/data') #use the folder/directory path here"
      ]
    },
    {
      "cell_type": "code",
      "execution_count": null,
      "metadata": {
        "id": "IAVvhUa5CFtf"
      },
      "outputs": [],
      "source": [
        "# y values are integers from 0-9, each corresponding to the index of the following list\n",
        "labels = ['airplane', 'automobile', 'bird', 'cat', 'deer', 'dog', 'frog', 'horse', 'ship', 'truck']"
      ]
    },
    {
      "cell_type": "markdown",
      "metadata": {
        "id": "SZ3Xqq5_uAOL"
      },
      "source": [
        "# Conversion of images to Grayscale"
      ]
    },
    {
      "cell_type": "code",
      "execution_count": null,
      "metadata": {
        "id": "DBNOyCocE1Wk"
      },
      "outputs": [],
      "source": [
        "x_train = np.array([cv2.cvtColor(image, cv2.COLOR_BGR2GRAY) for image in x_train])\n",
        "x_test = np.array([cv2.cvtColor(image, cv2.COLOR_BGR2GRAY) for image in x_test])"
      ]
    },
    {
      "cell_type": "code",
      "execution_count": null,
      "metadata": {
        "colab": {
          "base_uri": "https://localhost:8080/"
        },
        "id": "OYSVqyGOuU8S",
        "outputId": "4b4edee5-e150-461d-cff7-e33784c82366"
      },
      "outputs": [
        {
          "name": "stdout",
          "output_type": "stream",
          "text": [
            "(50000, 32, 32)\n",
            "(10000, 32, 32)\n",
            "(50000,)\n",
            "(10000,)\n"
          ]
        }
      ],
      "source": [
        "#checking the shape of the datasets\n",
        "print(x_train.shape)\n",
        "print(x_test.shape)\n",
        "print(y_train.shape)\n",
        "print(y_test.shape)"
      ]
    },
    {
      "cell_type": "code",
      "execution_count": null,
      "metadata": {
        "colab": {
          "base_uri": "https://localhost:8080/",
          "height": 432
        },
        "id": "Q8WTVwW8E5iF",
        "outputId": "60ffd007-d548-4a09-eed4-e00d8a915045"
      },
      "outputs": [
        {
          "data": {
            "image/png": "[encoded data removed]",
            "text/plain": [
              "<Figure size 1152x576 with 30 Axes>"
            ]
          },
          "metadata": {
            "needs_background": "light"
          },
          "output_type": "display_data"
        }
      ],
      "source": [
        "#checking to see if the conversion to grayscale was successful\n",
        "fig, axes = plt.subplots(ncols=10, nrows=3, figsize=(16, 8))\n",
        "index = 0\n",
        "for i in range(3):\n",
        "    for j in range(10):\n",
        "        axes[i,j].set_title(labels[y_train[index]])\n",
        "        axes[i,j].imshow(x_train[index], cmap = 'gray')\n",
        "        axes[i,j].get_xaxis().set_visible(False)\n",
        "        axes[i,j].get_yaxis().set_visible(False)\n",
        "        index += 1"
      ]
    },
    {
      "cell_type": "markdown",
      "metadata": {
        "id": "YABFMZ6Dvg5i"
      },
      "source": [
        "# Normalization of training and testing values"
      ]
    },
    {
      "cell_type": "code",
      "execution_count": null,
      "metadata": {
        "id": "XpL38rP13iCe"
      },
      "outputs": [],
      "source": [
        "x_train = x_train/255\n",
        "x_test = x_test/255"
      ]
    },
    {
      "cell_type": "code",
      "execution_count": null,
      "metadata": {
        "colab": {
          "base_uri": "https://localhost:8080/"
        },
        "id": "1UOPnjksvu1x",
        "outputId": "03cf9f2a-cc0a-4444-c655-af0d300b27c0"
      },
      "outputs": [
        {
          "name": "stdout",
          "output_type": "stream",
          "text": [
            "(50000, 1, 32, 32)\n",
            "(10000, 1, 32, 32)\n"
          ]
        }
      ],
      "source": [
        "#reshaping the values for a 2-D CNN\n",
        "x_train = np.reshape(x_train, (x_train.shape[0], 1, x_train.shape[1], x_train.shape[2]))\n",
        "x_test = np.reshape(x_test, (x_test.shape[0], 1, x_test.shape[1], x_test.shape[2]))\n",
        "print(x_train.shape)\n",
        "print(x_test.shape)"
      ]
    },
    {
      "cell_type": "markdown",
      "metadata": {
        "id": "TKfN5fPNv4Wo"
      },
      "source": [
        "# Converting the dataset from NumPy arrays to CuPy arrays\n",
        "This is done to leverage GPUs on Google Colab using CUDA. Please find more about CuPy here: https://cupy.dev/"
      ]
    },
    {
      "cell_type": "code",
      "execution_count": null,
      "metadata": {
        "colab": {
          "base_uri": "https://localhost:8080/"
        },
        "id": "CbmZAopsv5FG",
        "outputId": "eaf5ab7f-ef03-4b94-ec7a-9da727316969"
      },
      "outputs": [
        {
          "name": "stdout",
          "output_type": "stream",
          "text": [
            "(50000, 1, 32, 32)\n",
            "(10000, 1, 32, 32)\n"
          ]
        }
      ],
      "source": [
        "cupy.cuda.Device(0).use()\n",
        "x_train = cupy.array(x_train, dtype=cupy.float32)\n",
        "y_train = cupy.array(y_train, dtype=cupy.int32)\n",
        "x_test = cupy.array(x_test, dtype=cupy.float32)\n",
        "y_test = cupy.array(y_test, dtype=cupy.int32)\n",
        "print(x_train.shape)\n",
        "print(x_test.shape)"
      ]
    },
    {
      "cell_type": "markdown",
      "metadata": {
        "id": "DYyWIYDzxxiX"
      },
      "source": [
        "# Custom Kernels in CuPy to leverage GPUs and reduce speed over for loops\n",
        "References used: Course Content of [CS6023 GPU Programming](http://www.cse.iitm.ac.in/~rupesh/teaching/gpu/jan22/) and [official documentation of CuPy ](https://docs.cupy.dev/en/stable/reference/generated/cupy.RawKernel.html#cupy.RawKernel)for custom kernels.\n",
        "\n",
        "Note that the code written in the cells for kernels are parsed by CuPy."
      ]
    },
    {
      "cell_type": "markdown",
      "metadata": {
        "id": "YLy_jtahy_hu"
      },
      "source": [
        "## Kernel for convolution"
      ]
    },
    {
      "cell_type": "code",
      "execution_count": null,
      "metadata": {
        "id": "PoCKyUBIYhgL"
      },
      "outputs": [],
      "source": [
        "import cupy\n",
        "conv = cupy.RawKernel(r'''\n",
        "extern \"C\" __global__ void conv(float *weights, float *input, float *bias, float *output, int weight_height, int height, int channels, int out_height, int out_channels){\n",
        "\n",
        "    int img_id = blockIdx.x, feature_id = threadIdx.z, weight_id = blockIdx.z, pixel = blockIdx.y;\n",
        "    float *my_filter = &weights[weight_id * weight_height * weight_height * channels + feature_id * weight_height * weight_height];\n",
        "    float *my_bias = &bias[weight_id];\n",
        "    float *my_input = &input[img_id * channels * height * height + feature_id * height * height];\n",
        "    float *my_output = &output[img_id * out_channels * out_height * out_height + weight_id * out_height * out_height];\n",
        "\n",
        "    int final_pid = (pixel % out_height) * 2 + (2 * height * (pixel/out_height));\n",
        "\n",
        "    \n",
        "    atomicAdd(&my_output[pixel], my_input[final_pid + height * threadIdx.y + threadIdx.x] * my_filter[threadIdx.x + weight_height*threadIdx.y]);\n",
        "    if (feature_id == 0 and threadIdx.x == 0 and threadIdx.y == 0){\n",
        "      atomicAdd(&my_output[pixel], my_bias[0]);\n",
        "    }\n",
        "\n",
        "}\n",
        "''', 'conv')"
      ]
    },
    {
      "cell_type": "markdown",
      "metadata": {
        "id": "AfTs9hMx9AE_"
      },
      "source": [
        "## Kernels for Backpropagation "
      ]
    },
    {
      "cell_type": "code",
      "execution_count": null,
      "metadata": {
        "id": "KYyeGH8UbaqD"
      },
      "outputs": [],
      "source": [
        "#Kernel for weights\n",
        "conv_w_backward = cupy.RawKernel(r'''\n",
        "extern \"C\" __global__ void conv_weight_backprop(float *weights, float *new_weights, float *new_bias, float *input, float *bias, float *output, int weight_height, int height, int channels, int out_height, int out_channels, float learning_rate){\n",
        "\n",
        "\n",
        "    int img_id = blockIdx.x, feature_id = threadIdx.z, weight_id = blockIdx.z, pixel = blockIdx.y;\n",
        "    float *my_filter = &weights[weight_id * weight_height * weight_height * channels + feature_id * weight_height * weight_height];\n",
        "    float *my_new_filter = &new_weights[weight_id * weight_height * weight_height * channels + feature_id * weight_height * weight_height];\n",
        "    float my_bias = bias[weight_id];\n",
        "    float *my_new_bias = &new_bias[weight_id];\n",
        "    float *my_input = &input[img_id * channels * height * height + feature_id * height * height];\n",
        "    float *my_output = &output[img_id * out_channels * out_height * out_height + weight_id * out_height * out_height];\n",
        "\n",
        "    int final_pid = (pixel % out_height) * 2 + (2 * height * (pixel/out_height));\n",
        "\n",
        "    atomicAdd(&my_new_filter[threadIdx.x + weight_height*threadIdx.y], my_filter[threadIdx.x + weight_height*threadIdx.y]/(gridDim.x * gridDim.y) - (learning_rate * my_input[final_pid + height * threadIdx.y + threadIdx.x] * my_output[pixel]));\n",
        "\n",
        "    if (threadIdx.x == 0 and threadIdx.y == 0 and feature_id == 0) {\n",
        "      \n",
        "      atomicAdd(&my_new_bias[0], my_bias/(gridDim.x * gridDim.y) - (learning_rate * my_output[pixel]));\n",
        "    \n",
        "      }\n",
        "    \n",
        "}\n",
        "''', 'conv_weight_backprop')\n",
        "\n",
        "#Kernel for gradients of previous layer \n",
        "conv_l_backward = cupy.RawKernel(r'''\n",
        "extern \"C\" __global__ void conv_layer_backprop(float *weights, float *new_weights, float *new_bias,float *input, float *bias, float *output, int weight_height, int height, int channels, int out_height, int out_channels, float learning_rate){\n",
        "\n",
        "\n",
        "    int img_id = blockIdx.x, feature_id = threadIdx.z, weight_id = blockIdx.z, pixel = blockIdx.y;\n",
        "    float *my_filter = &weights[weight_id * weight_height * weight_height * channels + feature_id * weight_height * weight_height];\n",
        "    float *my_input = &input[img_id * channels * height * height + feature_id * height * height];\n",
        "    float *my_output = &output[img_id * out_channels * out_height * out_height + weight_id * out_height * out_height];\n",
        "\n",
        "    int final_pid = (pixel % out_height) * 2 + (2 * height * (pixel/out_height));\n",
        "\n",
        "    atomicAdd(&my_input[final_pid + height * threadIdx.y + threadIdx.x], my_output[pixel] * my_filter[threadIdx.x + weight_height*threadIdx.y]);\n",
        "\n",
        "}\n",
        "\n",
        "\n",
        "''', 'conv_layer_backprop')"
      ]
    },
    {
      "cell_type": "markdown",
      "metadata": {
        "id": "aX3ui8WP9UnD"
      },
      "source": [
        "## Kernels for MaxPool"
      ]
    },
    {
      "cell_type": "code",
      "execution_count": null,
      "metadata": {
        "id": "x19o6nFp2U7y"
      },
      "outputs": [],
      "source": [
        "# Maxpool foward pass\n",
        "maxpool = cupy.RawKernel(r'''\n",
        "__device__ __forceinline__ float atomicMaxFloat (float * addr, float value) {\n",
        "    float old;\n",
        "    old = (value >= 0) ? __int_as_float(atomicMax((int *)addr, __float_as_int(value))) :\n",
        "         __uint_as_float(atomicMin((unsigned int *)addr, __float_as_uint(value)));\n",
        "\n",
        "    return old;\n",
        "}\n",
        "\n",
        "extern \"C\" __global__ void maxpool(float *input, float *output, int window, int stride, int height, int channels, int out_height){\n",
        "\n",
        "    int img_id = blockIdx.x, feature_id = blockIdx.z, pixel = blockIdx.y;\n",
        "\n",
        "    float *my_input = &input[img_id * channels * height * height + feature_id * height * height];\n",
        "\n",
        "    float *my_output = &output[img_id * channels * out_height * out_height + feature_id * out_height * out_height];\n",
        "\n",
        "    int final_pid = (pixel % out_height) * stride + (stride * height * (pixel/out_height));\n",
        "\n",
        "    __shared__ float w_max;\n",
        "\n",
        "    if (threadIdx.x == 0 and threadIdx.y == 0) w_max = my_input[final_pid + height*threadIdx.y + threadIdx.x];\n",
        "\n",
        "    __syncthreads();\n",
        "\n",
        "    atomicMaxFloat(&w_max, my_input[final_pid + height*threadIdx.y + threadIdx.x]);\n",
        "\n",
        "\n",
        "    __syncthreads();\n",
        "\n",
        "    if (threadIdx.x == 0 and threadIdx.y == 0) {\n",
        "      my_output[pixel] = w_max;\n",
        "\n",
        "    }\n",
        "\n",
        "}\n",
        "\n",
        "\n",
        "''', 'maxpool')\n",
        "\n",
        "#MaxPool backpropagation\n",
        "maxpool_backward = cupy.RawKernel(r'''\n",
        "\n",
        "__device__ __forceinline__ float atomicMaxFloat (float * addr, float value) {\n",
        "    float old;\n",
        "    old = (value >= 0) ? __int_as_float(atomicMax((int *)addr, __float_as_int(value))) :\n",
        "         __uint_as_float(atomicMin((unsigned int *)addr, __float_as_uint(value)));\n",
        "\n",
        "    return old;\n",
        "}\n",
        "\n",
        "extern \"C\" __global__ void maxpool_backprop(float *input, float *output, int window, int stride, int height, int channels, int out_height){\n",
        "\n",
        "    int img_id = blockIdx.x, feature_id = blockIdx.z, pixel = blockIdx.y;\n",
        "\n",
        "    float *my_input = &input[img_id * channels * height * height + feature_id * height * height];\n",
        "\n",
        "    float *my_output = &output[img_id * channels * out_height * out_height + feature_id * out_height * out_height];\n",
        "\n",
        "    int final_pid = (pixel % out_height) * stride + (stride * height * (pixel/out_height));\n",
        "\n",
        "    __shared__ float w_max;\n",
        "\n",
        "    if (threadIdx.x == 0 and threadIdx.y == 0) w_max = my_input[final_pid + height*threadIdx.y + threadIdx.x];\n",
        "\n",
        "    __syncthreads();\n",
        "\n",
        "    atomicMaxFloat(&w_max, my_input[final_pid + height*threadIdx.y + threadIdx.x]);\n",
        "    __syncthreads();\n",
        "\n",
        "    if (w_max == my_input[final_pid + height*threadIdx.y + threadIdx.x]) {\n",
        "      \n",
        "      my_input[final_pid + height*threadIdx.y + threadIdx.x] = my_output[pixel];    \n",
        "      }\n",
        "\n",
        "    else my_input[final_pid + height*threadIdx.y + threadIdx.x] = 0;\n",
        "\n",
        "\n",
        "}\n",
        "\n",
        "\n",
        "''', 'maxpool_backprop')"
      ]
    },
    {
      "cell_type": "markdown",
      "metadata": {
        "id": "hkxIC9ld9qUY"
      },
      "source": [
        "# CNN Class"
      ]
    },
    {
      "cell_type": "code",
      "execution_count": null,
      "metadata": {
        "id": "IEiPZYK5Fzx1"
      },
      "outputs": [],
      "source": [
        "class CNN:\n",
        "    \n",
        "    #initialization of parameters\n",
        "    def __init__(self, kernel_size, stride, in_channels, out_channels):\n",
        "        self.kernel_size = kernel_size\n",
        "        self.stride = stride\n",
        "        self.in_channels = in_channels\n",
        "        self.out_channels = out_channels\n",
        "        self.weight = cupy.random.uniform(-1, 1, (self.out_channels* self.in_channels* self.kernel_size* self.kernel_size), dtype=cupy.float32)\n",
        "\n",
        "        self.bias = cupy.random.uniform(-1, 1, (self.out_channels, ), dtype=cupy.float32)\n",
        "\n",
        "    def forward(self, input_vector):\n",
        "        batch_size, channels, height, height = input_vector.shape\n",
        "\n",
        "        wh = self.kernel_size\n",
        "\n",
        "        out_height = height//2\n",
        "\n",
        "        input_vector = input_vector.reshape(-1, )\n",
        "\n",
        "        output = cupy.zeros(batch_size*self.out_channels*out_height*out_height, dtype=cupy.float32)#.reshape(batch_size, self.out_channels, out_height, out_height)\n",
        "        weight1 = self.weight\n",
        "        bias1 = self.bias\n",
        "\n",
        "        out_channels = self.out_channels\n",
        "\n",
        "        conv( (batch_size, out_height * out_height, out_channels), \n",
        "              (wh, wh, channels), \n",
        "              (weight1, input_vector, bias1, output, wh, height, channels, out_height, out_channels)) \n",
        "        \n",
        "\n",
        "        return output.reshape(batch_size, out_channels, out_height, out_height)\n",
        "\n",
        "    def backward(self, input_vector, output_vector, learning_rate):\n",
        "\n",
        "        batch_size, channels, height, height = input_vector.shape\n",
        "        _, out_channels, out_height, out_height = output_vector.shape\n",
        "\n",
        "        wh = self.kernel_size\n",
        "\n",
        "        input_vector = input_vector.reshape(-1, )\n",
        "        output_vector = output_vector.reshape(-1, )\n",
        "\n",
        "        new_weights = cupy.zeros(wh*wh*channels*out_channels, dtype=cupy.float32)\n",
        "        new_bias = cupy.zeros(out_channels, dtype=cupy.float32) \n",
        "        backprop = cupy.zeros(height*height*batch_size*channels, dtype=cupy.float32)\n",
        "\n",
        "\n",
        "        conv_w_backward((batch_size, out_height * out_height, out_channels), \n",
        "                        (wh, wh, channels), \n",
        "                        (self.weight, new_weights, new_bias, input_vector, self.bias, output_vector, self.kernel_size, height, channels, out_height, out_channels, learning_rate))\n",
        "            \n",
        "\n",
        "\n",
        "        conv_l_backward((batch_size, out_height * out_height, out_channels), (wh, wh, channels), (self.weight, new_weights, new_bias, backprop, self.bias, output_vector, wh, height, channels, out_height, out_channels, learning_rate))\n",
        "\n",
        "  \n",
        "        self.weight = new_weights\n",
        "        self.bias = new_bias\n",
        "        return backprop.reshape(batch_size, channels, height, height)"
      ]
    },
    {
      "cell_type": "markdown",
      "metadata": {
        "id": "FXbBmb2wA7cQ"
      },
      "source": [
        "# ReLU Activation Class"
      ]
    },
    {
      "cell_type": "code",
      "execution_count": null,
      "metadata": {
        "id": "yPiQas8fztI0"
      },
      "outputs": [],
      "source": [
        "class ReLU:\n",
        "    def __init__(self):\n",
        "        pass\n",
        "\n",
        "    def forward(self, input_vector):\n",
        "\n",
        "        return (input_vector > 0 ) * input_vector\n",
        "\n",
        "    def backward(self, input_vector, output_vector):\n",
        "\n",
        "        return (input_vector > 0) * output_vector"
      ]
    },
    {
      "cell_type": "markdown",
      "metadata": {
        "id": "LRBcT_2FBCiI"
      },
      "source": [
        "# MaxPool Class"
      ]
    },
    {
      "cell_type": "code",
      "execution_count": null,
      "metadata": {
        "id": "Im55cgTDz9MN"
      },
      "outputs": [],
      "source": [
        "class MaxPool:\n",
        "\n",
        "    def __init__(self, stride, dimension):\n",
        "        index = None\n",
        "        self.dim = dimension\n",
        "        self.stride = stride\n",
        "\n",
        "    def forward(self, input_vector):\n",
        "        batch_size, channels, height, width = input_vector.shape\n",
        "\n",
        "        out_height = height//2\n",
        "\n",
        "        output = cupy.zeros(batch_size*channels*out_height*out_height, dtype = cupy.float32).reshape(batch_size, channels, out_height, out_height)\n",
        "\n",
        "        maxpool(  (batch_size, out_height*out_height, channels), \n",
        "                  (self.dim, self.dim, 1),\n",
        "                  (input_vector, output, self.dim, self.stride, height, channels, out_height))\n",
        "\n",
        "        return output\n",
        "\n",
        "    def backward(self, input_vector, output_vector):\n",
        "\n",
        "        batch_size, channels, height, height = input_vector.shape\n",
        "        _, _, out_height, out_height = output_vector.shape\n",
        "      \n",
        "\n",
        "        maxpool_backward((batch_size, out_height*out_height, channels), \n",
        "                          (self.dim, self.dim, 1),\n",
        "                         (input_vector, output_vector, self.dim, self.stride, height, channels, out_height))\n",
        "        \n",
        "        return input_vector"
      ]
    },
    {
      "cell_type": "markdown",
      "metadata": {
        "id": "E6IhWnWZ4DCo"
      },
      "source": [
        "# Categorical Cross Entropy Loss Class"
      ]
    },
    {
      "cell_type": "code",
      "execution_count": null,
      "metadata": {
        "id": "knd3XCCz1Cr3"
      },
      "outputs": [],
      "source": [
        "class Cross_Entropy_Loss:\n",
        "    \n",
        "    def __init__(self):\n",
        "        pass\n",
        "\n",
        "    def calculate(self, input_vector, y_actual):\n",
        "\n",
        "        batch_size, channels, _, _ = input_vector.shape\n",
        "        prediction = input_vector.reshape(batch_size, channels)\n",
        "\n",
        "        softmax_probabilities = cupy.exp(prediction)/cupy.exp(prediction).sum(-1, keepdims=True)\n",
        "\n",
        "        accuracy = cupy.equal(cupy.argmax(softmax_probabilities, -1), y_actual).mean()\n",
        "        loss = -cupy.log(softmax_probabilities[cupy.arange(batch_size), y_actual]).mean()\n",
        "\n",
        "        backprop = (1/batch_size) * (softmax_probabilities)\n",
        "\n",
        "        backprop[cupy.arange(batch_size, dtype=cupy.int32), y_actual] = (1/batch_size) * (softmax_probabilities[cupy.arange(batch_size, dtype=cupy.int32), y_actual] - 1)\n",
        "\n",
        "        return loss, backprop.reshape(input_vector.shape), accuracy"
      ]
    },
    {
      "cell_type": "markdown",
      "metadata": {
        "id": "iBcQ-QCk4Hx2"
      },
      "source": [
        "# Class to define the network"
      ]
    },
    {
      "cell_type": "code",
      "execution_count": null,
      "metadata": {
        "id": "TiybuLfH1uOW"
      },
      "outputs": [],
      "source": [
        "class Model:\n",
        "\n",
        "    def __init__(self,):\n",
        "\n",
        "        self.conv1 = CNN(kernel_size=2, stride=2, in_channels=1, out_channels=64)\n",
        "        self.conv2 = CNN(kernel_size=2, stride=2, in_channels=64, out_channels=10)\n",
        "        self.conv3 = CNN(kernel_size=2, stride=2, in_channels=10, out_channels=10)\n",
        "        self.pool1 = MaxPool(stride=2, dimension=2)\n",
        "        self.pool2 = MaxPool(stride=2, dimension=2)\n",
        "        self.pool3 = MaxPool(stride=2, dimension=2)\n",
        "        self.activation = ReLU()\n",
        "\n",
        "        self.criterion = Cross_Entropy_Loss()\n",
        "\n",
        "    def forward(self, input_vector, y_actual, learning_rate):\n",
        "\n",
        "        out1 = self.conv1.forward(input_vector)\n",
        "        out2 = self.activation.forward(out1)\n",
        "        out3 = self.pool1.forward(out2)\n",
        "        out4 = self.conv2.forward(out3)\n",
        "        out5 = self.activation.forward(out4)\n",
        "        out6 = self.pool2.forward(out5)\n",
        "        output = self.conv3.forward(out6)\n",
        "\n",
        "        loss, backprop, accuracy = self.criterion.calculate(output, y_actual)\n",
        "\n",
        "        backprop = self.conv3.backward(out6, backprop, learning_rate)\n",
        "        backprop = self.pool2.backward(out5, backprop)\n",
        "        backprop = self.activation.backward(out4, backprop)\n",
        "        backprop = self.conv2.backward(out3, backprop, learning_rate)\n",
        "        backprop = self.pool1.backward(out2, backprop)\n",
        "        backprop = self.activation.backward(out1, backprop)\n",
        "        self.conv1.backward(input_vector, backprop, learning_rate)\n",
        "\n",
        "        return loss\n",
        "    \n",
        "    def evaluate(self, input_vector, y_actual):\n",
        "        out1 = self.conv1.forward(input_vector)\n",
        "        out2 = self.activation.forward(out1)\n",
        "        out3 = self.pool1.forward(out2)\n",
        "        out4 = self.conv2.forward(out3)\n",
        "        out5 = self.activation.forward(out4)\n",
        "        out6 = self.pool2.forward(out5)\n",
        "        output = self.conv3.forward(out6)\n",
        "        loss, backprop, accuracy = self.criterion.calculate(output, y_actual)\n",
        "        return loss, accuracy"
      ]
    },
    {
      "cell_type": "markdown",
      "metadata": {
        "id": "WlfQeA3YBm-H"
      },
      "source": [
        "# Selecting the number of images per batch and iterations (epochs) and network setup"
      ]
    },
    {
      "cell_type": "code",
      "execution_count": null,
      "metadata": {
        "id": "-8Xns4tR1_NA"
      },
      "outputs": [],
      "source": [
        "images_per_batch = 64\n",
        "epochs = 50\n",
        "NeuralNetwork = Model()"
      ]
    },
    {
      "cell_type": "markdown",
      "metadata": {
        "id": "gpFoy6FFCNo7"
      },
      "source": [
        "# Training the Model"
      ]
    },
    {
      "cell_type": "code",
      "execution_count": null,
      "metadata": {
        "colab": {
          "base_uri": "https://localhost:8080/"
        },
        "id": "8NSMVGTJ2K5C",
        "outputId": "ed2d73aa-c5dd-46dc-d413-aaa7cc1d02ac"
      },
      "outputs": [
        {
          "name": "stdout",
          "output_type": "stream",
          "text": [
            "Training\n"
          ]
        },
        {
          "name": "stderr",
          "output_type": "stream",
          "text": [
            "100%|██████████| 782/782 [00:27<00:00, 28.75it/s]\n"
          ]
        },
        {
          "name": "stdout",
          "output_type": "stream",
          "text": [
            "Testing\n"
          ]
        },
        {
          "name": "stderr",
          "output_type": "stream",
          "text": [
            "100%|██████████| 157/157 [00:01<00:00, 99.64it/s] \n"
          ]
        },
        {
          "name": "stdout",
          "output_type": "stream",
          "text": [
            "Training Loss : 3.3945696 Test Loss : 2.7498777\n",
            "Training Accuracy : 0.1074343790012804 Test Accuracy : 0.1070713141025641\n",
            "---------------------------------\n",
            "Finished epoch 1\n",
            "---------------------------------\n",
            "Training\n"
          ]
        },
        {
          "name": "stderr",
          "output_type": "stream",
          "text": [
            "100%|██████████| 782/782 [00:26<00:00, 29.02it/s]\n"
          ]
        },
        {
          "name": "stdout",
          "output_type": "stream",
          "text": [
            "Testing\n"
          ]
        },
        {
          "name": "stderr",
          "output_type": "stream",
          "text": [
            "100%|██████████| 157/157 [00:01<00:00, 99.44it/s] \n"
          ]
        },
        {
          "name": "stdout",
          "output_type": "stream",
          "text": [
            "Training Loss : 2.6395943 Test Loss : 2.598374\n",
            "Training Accuracy : 0.11669734314980794 Test Accuracy : 0.11388221153846154\n",
            "---------------------------------\n",
            "Finished epoch 2\n",
            "---------------------------------\n",
            "Training\n"
          ]
        },
        {
          "name": "stderr",
          "output_type": "stream",
          "text": [
            "100%|██████████| 782/782 [00:26<00:00, 29.04it/s]\n"
          ]
        },
        {
          "name": "stdout",
          "output_type": "stream",
          "text": [
            "Testing\n"
          ]
        },
        {
          "name": "stderr",
          "output_type": "stream",
          "text": [
            "100%|██████████| 157/157 [00:01<00:00, 99.11it/s] \n"
          ]
        },
        {
          "name": "stdout",
          "output_type": "stream",
          "text": [
            "Training Loss : 2.5371048 Test Loss : 2.5253174\n",
            "Training Accuracy : 0.12231914212548016 Test Accuracy : 0.1194911858974359\n",
            "---------------------------------\n",
            "Finished epoch 3\n",
            "---------------------------------\n",
            "Training\n"
          ]
        },
        {
          "name": "stderr",
          "output_type": "stream",
          "text": [
            "100%|██████████| 782/782 [00:26<00:00, 28.97it/s]\n"
          ]
        },
        {
          "name": "stdout",
          "output_type": "stream",
          "text": [
            "Testing\n"
          ]
        },
        {
          "name": "stderr",
          "output_type": "stream",
          "text": [
            "100%|██████████| 157/157 [00:01<00:00, 99.21it/s] \n"
          ]
        },
        {
          "name": "stdout",
          "output_type": "stream",
          "text": [
            "Training Loss : 2.4805508 Test Loss : 2.480816\n",
            "Training Accuracy : 0.1259403008962868 Test Accuracy : 0.12209535256410256\n",
            "---------------------------------\n",
            "Finished epoch 4\n",
            "---------------------------------\n",
            "Training\n"
          ]
        },
        {
          "name": "stderr",
          "output_type": "stream",
          "text": [
            "100%|██████████| 782/782 [00:27<00:00, 28.93it/s]\n"
          ]
        },
        {
          "name": "stdout",
          "output_type": "stream",
          "text": [
            "Testing\n"
          ]
        },
        {
          "name": "stderr",
          "output_type": "stream",
          "text": [
            "100%|██████████| 157/157 [00:01<00:00, 98.66it/s] \n"
          ]
        },
        {
          "name": "stdout",
          "output_type": "stream",
          "text": [
            "Training Loss : 2.442582 Test Loss : 2.4491603\n",
            "Training Accuracy : 0.13064180537772088 Test Accuracy : 0.1255008012820513\n",
            "---------------------------------\n",
            "Finished epoch 5\n",
            "---------------------------------\n",
            "Training\n"
          ]
        },
        {
          "name": "stderr",
          "output_type": "stream",
          "text": [
            "100%|██████████| 782/782 [00:26<00:00, 28.97it/s]\n"
          ]
        },
        {
          "name": "stdout",
          "output_type": "stream",
          "text": [
            "Testing\n"
          ]
        },
        {
          "name": "stderr",
          "output_type": "stream",
          "text": [
            "100%|██████████| 157/157 [00:01<00:00, 99.55it/s] \n"
          ]
        },
        {
          "name": "stdout",
          "output_type": "stream",
          "text": [
            "Training Loss : 2.4142823 Test Loss : 2.4243333\n",
            "Training Accuracy : 0.13348271446862997 Test Accuracy : 0.1266025641025641\n",
            "---------------------------------\n",
            "Finished epoch 6\n",
            "---------------------------------\n",
            "Training\n"
          ]
        },
        {
          "name": "stderr",
          "output_type": "stream",
          "text": [
            "100%|██████████| 782/782 [00:26<00:00, 29.03it/s]\n"
          ]
        },
        {
          "name": "stdout",
          "output_type": "stream",
          "text": [
            "Testing\n"
          ]
        },
        {
          "name": "stderr",
          "output_type": "stream",
          "text": [
            "100%|██████████| 157/157 [00:01<00:00, 99.96it/s] \n"
          ]
        },
        {
          "name": "stdout",
          "output_type": "stream",
          "text": [
            "Training Loss : 2.3915832 Test Loss : 2.4047759\n",
            "Training Accuracy : 0.13698383482714468 Test Accuracy : 0.12880608974358973\n",
            "---------------------------------\n",
            "Finished epoch 7\n",
            "---------------------------------\n",
            "Training\n"
          ]
        },
        {
          "name": "stderr",
          "output_type": "stream",
          "text": [
            "100%|██████████| 782/782 [00:26<00:00, 29.05it/s]\n"
          ]
        },
        {
          "name": "stdout",
          "output_type": "stream",
          "text": [
            "Testing\n"
          ]
        },
        {
          "name": "stderr",
          "output_type": "stream",
          "text": [
            "100%|██████████| 157/157 [00:01<00:00, 99.21it/s] \n"
          ]
        },
        {
          "name": "stdout",
          "output_type": "stream",
          "text": [
            "Training Loss : 2.3728733 Test Loss : 2.3889482\n",
            "Training Accuracy : 0.13926456466069143 Test Accuracy : 0.1330128205128205\n",
            "---------------------------------\n",
            "Finished epoch 8\n",
            "---------------------------------\n",
            "Training\n"
          ]
        },
        {
          "name": "stderr",
          "output_type": "stream",
          "text": [
            "100%|██████████| 782/782 [00:26<00:00, 29.05it/s]\n"
          ]
        },
        {
          "name": "stdout",
          "output_type": "stream",
          "text": [
            "Testing\n"
          ]
        },
        {
          "name": "stderr",
          "output_type": "stream",
          "text": [
            "100%|██████████| 157/157 [00:01<00:00, 99.46it/s] \n"
          ]
        },
        {
          "name": "stdout",
          "output_type": "stream",
          "text": [
            "Training Loss : 2.3571987 Test Loss : 2.3747487\n",
            "Training Accuracy : 0.14208546734955185 Test Accuracy : 0.13631810897435898\n",
            "---------------------------------\n",
            "Finished epoch 9\n",
            "---------------------------------\n",
            "Training\n"
          ]
        },
        {
          "name": "stderr",
          "output_type": "stream",
          "text": [
            "100%|██████████| 782/782 [00:26<00:00, 29.00it/s]\n"
          ]
        },
        {
          "name": "stdout",
          "output_type": "stream",
          "text": [
            "Testing\n"
          ]
        },
        {
          "name": "stderr",
          "output_type": "stream",
          "text": [
            "100%|██████████| 157/157 [00:01<00:00, 99.31it/s] \n"
          ]
        },
        {
          "name": "stdout",
          "output_type": "stream",
          "text": [
            "Training Loss : 2.3435428 Test Loss : 2.3624315\n",
            "Training Accuracy : 0.14488636363636365 Test Accuracy : 0.13842147435897437\n",
            "---------------------------------\n",
            "Finished epoch 10\n",
            "---------------------------------\n",
            "Training\n"
          ]
        },
        {
          "name": "stderr",
          "output_type": "stream",
          "text": [
            "100%|██████████| 782/782 [00:26<00:00, 29.06it/s]\n"
          ]
        },
        {
          "name": "stdout",
          "output_type": "stream",
          "text": [
            "Testing\n"
          ]
        },
        {
          "name": "stderr",
          "output_type": "stream",
          "text": [
            "100%|██████████| 157/157 [00:01<00:00, 99.18it/s] \n"
          ]
        },
        {
          "name": "stdout",
          "output_type": "stream",
          "text": [
            "Training Loss : 2.3318307 Test Loss : 2.3528101\n",
            "Training Accuracy : 0.1471070742637644 Test Accuracy : 0.13862179487179488\n",
            "---------------------------------\n",
            "Finished epoch 11\n",
            "---------------------------------\n",
            "Training\n"
          ]
        },
        {
          "name": "stderr",
          "output_type": "stream",
          "text": [
            "100%|██████████| 782/782 [00:26<00:00, 28.98it/s]\n"
          ]
        },
        {
          "name": "stdout",
          "output_type": "stream",
          "text": [
            "Testing\n"
          ]
        },
        {
          "name": "stderr",
          "output_type": "stream",
          "text": [
            "100%|██████████| 157/157 [00:01<00:00, 99.22it/s] \n"
          ]
        },
        {
          "name": "stdout",
          "output_type": "stream",
          "text": [
            "Training Loss : 2.3217463 Test Loss : 2.3445065\n",
            "Training Accuracy : 0.149627880921895 Test Accuracy : 0.14002403846153846\n",
            "---------------------------------\n",
            "Finished epoch 12\n",
            "---------------------------------\n",
            "Training\n"
          ]
        },
        {
          "name": "stderr",
          "output_type": "stream",
          "text": [
            "100%|██████████| 782/782 [00:26<00:00, 29.00it/s]\n"
          ]
        },
        {
          "name": "stdout",
          "output_type": "stream",
          "text": [
            "Testing\n"
          ]
        },
        {
          "name": "stderr",
          "output_type": "stream",
          "text": [
            "100%|██████████| 157/157 [00:01<00:00, 99.28it/s] \n"
          ]
        },
        {
          "name": "stdout",
          "output_type": "stream",
          "text": [
            "Training Loss : 2.31297 Test Loss : 2.336749\n",
            "Training Accuracy : 0.1511683738796415 Test Accuracy : 0.14212740384615385\n",
            "---------------------------------\n",
            "Finished epoch 13\n",
            "---------------------------------\n",
            "Training\n"
          ]
        },
        {
          "name": "stderr",
          "output_type": "stream",
          "text": [
            "100%|██████████| 782/782 [00:26<00:00, 28.99it/s]\n"
          ]
        },
        {
          "name": "stdout",
          "output_type": "stream",
          "text": [
            "Testing\n"
          ]
        },
        {
          "name": "stderr",
          "output_type": "stream",
          "text": [
            "100%|██████████| 157/157 [00:01<00:00, 99.17it/s] \n"
          ]
        },
        {
          "name": "stdout",
          "output_type": "stream",
          "text": [
            "Training Loss : 2.3052995 Test Loss : 2.3300352\n",
            "Training Accuracy : 0.15292893725992318 Test Accuracy : 0.1422275641025641\n",
            "---------------------------------\n",
            "Finished epoch 14\n",
            "---------------------------------\n",
            "Training\n"
          ]
        },
        {
          "name": "stderr",
          "output_type": "stream",
          "text": [
            "100%|██████████| 782/782 [00:26<00:00, 28.99it/s]\n"
          ]
        },
        {
          "name": "stdout",
          "output_type": "stream",
          "text": [
            "Testing\n"
          ]
        },
        {
          "name": "stderr",
          "output_type": "stream",
          "text": [
            "100%|██████████| 157/157 [00:01<00:00, 99.17it/s] \n"
          ]
        },
        {
          "name": "stdout",
          "output_type": "stream",
          "text": [
            "Training Loss : 2.298251 Test Loss : 2.323743\n",
            "Training Accuracy : 0.15468950064020487 Test Accuracy : 0.14212740384615385\n",
            "---------------------------------\n",
            "Finished epoch 15\n",
            "---------------------------------\n",
            "Training\n"
          ]
        },
        {
          "name": "stderr",
          "output_type": "stream",
          "text": [
            "100%|██████████| 782/782 [00:26<00:00, 28.99it/s]\n"
          ]
        },
        {
          "name": "stdout",
          "output_type": "stream",
          "text": [
            "Testing\n"
          ]
        },
        {
          "name": "stderr",
          "output_type": "stream",
          "text": [
            "100%|██████████| 157/157 [00:01<00:00, 99.27it/s] \n"
          ]
        },
        {
          "name": "stdout",
          "output_type": "stream",
          "text": [
            "Training Loss : 2.2916803 Test Loss : 2.318064\n",
            "Training Accuracy : 0.15540973111395648 Test Accuracy : 0.14182692307692307\n",
            "---------------------------------\n",
            "Finished epoch 16\n",
            "---------------------------------\n",
            "Training\n"
          ]
        },
        {
          "name": "stderr",
          "output_type": "stream",
          "text": [
            "100%|██████████| 782/782 [00:26<00:00, 29.00it/s]\n"
          ]
        },
        {
          "name": "stdout",
          "output_type": "stream",
          "text": [
            "Testing\n"
          ]
        },
        {
          "name": "stderr",
          "output_type": "stream",
          "text": [
            "100%|██████████| 157/157 [00:01<00:00, 99.57it/s] \n"
          ]
        },
        {
          "name": "stdout",
          "output_type": "stream",
          "text": [
            "Training Loss : 2.28594 Test Loss : 2.3136766\n",
            "Training Accuracy : 0.15618998079385404 Test Accuracy : 0.1429286858974359\n",
            "---------------------------------\n",
            "Finished epoch 17\n",
            "---------------------------------\n",
            "Training\n"
          ]
        },
        {
          "name": "stderr",
          "output_type": "stream",
          "text": [
            "100%|██████████| 782/782 [00:26<00:00, 29.03it/s]\n"
          ]
        },
        {
          "name": "stdout",
          "output_type": "stream",
          "text": [
            "Testing\n"
          ]
        },
        {
          "name": "stderr",
          "output_type": "stream",
          "text": [
            "100%|██████████| 157/157 [00:01<00:00, 99.50it/s] \n"
          ]
        },
        {
          "name": "stdout",
          "output_type": "stream",
          "text": [
            "Training Loss : 2.2808483 Test Loss : 2.308915\n",
            "Training Accuracy : 0.15779049295774647 Test Accuracy : 0.14362980769230768\n",
            "---------------------------------\n",
            "Finished epoch 18\n",
            "---------------------------------\n",
            "Training\n"
          ]
        },
        {
          "name": "stderr",
          "output_type": "stream",
          "text": [
            "100%|██████████| 782/782 [00:26<00:00, 28.99it/s]\n"
          ]
        },
        {
          "name": "stdout",
          "output_type": "stream",
          "text": [
            "Testing\n"
          ]
        },
        {
          "name": "stderr",
          "output_type": "stream",
          "text": [
            "100%|██████████| 157/157 [00:01<00:00, 99.12it/s] \n"
          ]
        },
        {
          "name": "stdout",
          "output_type": "stream",
          "text": [
            "Training Loss : 2.2758667 Test Loss : 2.3047419\n",
            "Training Accuracy : 0.15945102432778488 Test Accuracy : 0.14192708333333334\n",
            "---------------------------------\n",
            "Finished epoch 19\n",
            "---------------------------------\n",
            "Training\n"
          ]
        },
        {
          "name": "stderr",
          "output_type": "stream",
          "text": [
            "100%|██████████| 782/782 [00:26<00:00, 28.99it/s]\n"
          ]
        },
        {
          "name": "stdout",
          "output_type": "stream",
          "text": [
            "Testing\n"
          ]
        },
        {
          "name": "stderr",
          "output_type": "stream",
          "text": [
            "100%|██████████| 157/157 [00:01<00:00, 99.15it/s] \n"
          ]
        },
        {
          "name": "stdout",
          "output_type": "stream",
          "text": [
            "Training Loss : 2.2712367 Test Loss : 2.3012707\n",
            "Training Accuracy : 0.16053137003841228 Test Accuracy : 0.1438301282051282\n",
            "---------------------------------\n",
            "Finished epoch 20\n",
            "---------------------------------\n",
            "Training\n"
          ]
        },
        {
          "name": "stderr",
          "output_type": "stream",
          "text": [
            "100%|██████████| 782/782 [00:26<00:00, 28.98it/s]\n"
          ]
        },
        {
          "name": "stdout",
          "output_type": "stream",
          "text": [
            "Testing\n"
          ]
        },
        {
          "name": "stderr",
          "output_type": "stream",
          "text": [
            "100%|██████████| 157/157 [00:01<00:00, 99.07it/s] \n"
          ]
        },
        {
          "name": "stdout",
          "output_type": "stream",
          "text": [
            "Training Loss : 2.2669604 Test Loss : 2.2974973\n",
            "Training Accuracy : 0.16153169014084506 Test Accuracy : 0.14413060897435898\n",
            "---------------------------------\n",
            "Finished epoch 21\n",
            "---------------------------------\n",
            "Training\n"
          ]
        },
        {
          "name": "stderr",
          "output_type": "stream",
          "text": [
            "100%|██████████| 782/782 [00:26<00:00, 28.97it/s]\n"
          ]
        },
        {
          "name": "stdout",
          "output_type": "stream",
          "text": [
            "Testing\n"
          ]
        },
        {
          "name": "stderr",
          "output_type": "stream",
          "text": [
            "100%|██████████| 157/157 [00:01<00:00, 99.12it/s] \n"
          ]
        },
        {
          "name": "stdout",
          "output_type": "stream",
          "text": [
            "Training Loss : 2.2627952 Test Loss : 2.294141\n",
            "Training Accuracy : 0.1634122919334187 Test Accuracy : 0.14493189102564102\n",
            "---------------------------------\n",
            "Finished epoch 22\n",
            "---------------------------------\n",
            "Training\n"
          ]
        },
        {
          "name": "stderr",
          "output_type": "stream",
          "text": [
            "100%|██████████| 782/782 [00:26<00:00, 29.03it/s]\n"
          ]
        },
        {
          "name": "stdout",
          "output_type": "stream",
          "text": [
            "Testing\n"
          ]
        },
        {
          "name": "stderr",
          "output_type": "stream",
          "text": [
            "100%|██████████| 157/157 [00:01<00:00, 99.84it/s] \n"
          ]
        },
        {
          "name": "stdout",
          "output_type": "stream",
          "text": [
            "Training Loss : 2.2588937 Test Loss : 2.2913475\n",
            "Training Accuracy : 0.164672695262484 Test Accuracy : 0.1461338141025641\n",
            "---------------------------------\n",
            "Finished epoch 23\n",
            "---------------------------------\n",
            "Training\n"
          ]
        },
        {
          "name": "stderr",
          "output_type": "stream",
          "text": [
            "100%|██████████| 782/782 [00:26<00:00, 29.02it/s]\n"
          ]
        },
        {
          "name": "stdout",
          "output_type": "stream",
          "text": [
            "Testing\n"
          ]
        },
        {
          "name": "stderr",
          "output_type": "stream",
          "text": [
            "100%|██████████| 157/157 [00:01<00:00, 99.43it/s] \n"
          ]
        },
        {
          "name": "stdout",
          "output_type": "stream",
          "text": [
            "Training Loss : 2.2551093 Test Loss : 2.2882\n",
            "Training Accuracy : 0.1657530409731114 Test Accuracy : 0.14833733974358973\n",
            "---------------------------------\n",
            "Finished epoch 24\n",
            "---------------------------------\n",
            "Training\n"
          ]
        },
        {
          "name": "stderr",
          "output_type": "stream",
          "text": [
            "100%|██████████| 782/782 [00:26<00:00, 28.97it/s]\n"
          ]
        },
        {
          "name": "stdout",
          "output_type": "stream",
          "text": [
            "Testing\n"
          ]
        },
        {
          "name": "stderr",
          "output_type": "stream",
          "text": [
            "100%|██████████| 157/157 [00:01<00:00, 99.26it/s] \n"
          ]
        },
        {
          "name": "stdout",
          "output_type": "stream",
          "text": [
            "Training Loss : 2.2514262 Test Loss : 2.2851548\n",
            "Training Accuracy : 0.16735355313700384 Test Accuracy : 0.1502403846153846\n",
            "---------------------------------\n",
            "Finished epoch 25\n",
            "---------------------------------\n",
            "Training\n"
          ]
        },
        {
          "name": "stderr",
          "output_type": "stream",
          "text": [
            "100%|██████████| 782/782 [00:26<00:00, 28.98it/s]\n"
          ]
        },
        {
          "name": "stdout",
          "output_type": "stream",
          "text": [
            "Testing\n"
          ]
        },
        {
          "name": "stderr",
          "output_type": "stream",
          "text": [
            "100%|██████████| 157/157 [00:01<00:00, 99.27it/s] \n"
          ]
        },
        {
          "name": "stdout",
          "output_type": "stream",
          "text": [
            "Training Loss : 2.2478595 Test Loss : 2.28239\n",
            "Training Accuracy : 0.16829385403329064 Test Accuracy : 0.15234375\n",
            "---------------------------------\n",
            "Finished epoch 26\n",
            "---------------------------------\n",
            "Training\n"
          ]
        },
        {
          "name": "stderr",
          "output_type": "stream",
          "text": [
            "100%|██████████| 782/782 [00:26<00:00, 29.02it/s]\n"
          ]
        },
        {
          "name": "stdout",
          "output_type": "stream",
          "text": [
            "Testing\n"
          ]
        },
        {
          "name": "stderr",
          "output_type": "stream",
          "text": [
            "100%|██████████| 157/157 [00:01<00:00, 99.35it/s] \n"
          ]
        },
        {
          "name": "stdout",
          "output_type": "stream",
          "text": [
            "Training Loss : 2.2443242 Test Loss : 2.2790413\n",
            "Training Accuracy : 0.16987435979513443 Test Accuracy : 0.15354567307692307\n",
            "---------------------------------\n",
            "Finished epoch 27\n",
            "---------------------------------\n",
            "Training\n"
          ]
        },
        {
          "name": "stderr",
          "output_type": "stream",
          "text": [
            "100%|██████████| 782/782 [00:26<00:00, 29.00it/s]\n"
          ]
        },
        {
          "name": "stdout",
          "output_type": "stream",
          "text": [
            "Testing\n"
          ]
        },
        {
          "name": "stderr",
          "output_type": "stream",
          "text": [
            "100%|██████████| 157/157 [00:01<00:00, 99.25it/s] \n"
          ]
        },
        {
          "name": "stdout",
          "output_type": "stream",
          "text": [
            "Training Loss : 2.240832 Test Loss : 2.2760139\n",
            "Training Accuracy : 0.17089468629961588 Test Accuracy : 0.15625\n",
            "---------------------------------\n",
            "Finished epoch 28\n",
            "---------------------------------\n",
            "Training\n"
          ]
        },
        {
          "name": "stderr",
          "output_type": "stream",
          "text": [
            "100%|██████████| 782/782 [00:26<00:00, 29.00it/s]\n"
          ]
        },
        {
          "name": "stdout",
          "output_type": "stream",
          "text": [
            "Testing\n"
          ]
        },
        {
          "name": "stderr",
          "output_type": "stream",
          "text": [
            "100%|██████████| 157/157 [00:01<00:00, 99.10it/s] \n"
          ]
        },
        {
          "name": "stdout",
          "output_type": "stream",
          "text": [
            "Training Loss : 2.2373588 Test Loss : 2.2735417\n",
            "Training Accuracy : 0.17249519846350833 Test Accuracy : 0.15655048076923078\n",
            "---------------------------------\n",
            "Finished epoch 29\n",
            "---------------------------------\n",
            "Training\n"
          ]
        },
        {
          "name": "stderr",
          "output_type": "stream",
          "text": [
            "100%|██████████| 782/782 [00:26<00:00, 29.01it/s]\n"
          ]
        },
        {
          "name": "stdout",
          "output_type": "stream",
          "text": [
            "Testing\n"
          ]
        },
        {
          "name": "stderr",
          "output_type": "stream",
          "text": [
            "100%|██████████| 157/157 [00:01<00:00, 99.14it/s] \n"
          ]
        },
        {
          "name": "stdout",
          "output_type": "stream",
          "text": [
            "Training Loss : 2.2339458 Test Loss : 2.270628\n",
            "Training Accuracy : 0.1743958066581306 Test Accuracy : 0.15845352564102563\n",
            "---------------------------------\n",
            "Finished epoch 30\n",
            "---------------------------------\n",
            "Training\n"
          ]
        },
        {
          "name": "stderr",
          "output_type": "stream",
          "text": [
            "100%|██████████| 782/782 [00:26<00:00, 28.99it/s]\n"
          ]
        },
        {
          "name": "stdout",
          "output_type": "stream",
          "text": [
            "Testing\n"
          ]
        },
        {
          "name": "stderr",
          "output_type": "stream",
          "text": [
            "100%|██████████| 157/157 [00:01<00:00, 99.24it/s] \n"
          ]
        },
        {
          "name": "stdout",
          "output_type": "stream",
          "text": [
            "Training Loss : 2.2306156 Test Loss : 2.2677453\n",
            "Training Accuracy : 0.17503601152368758 Test Accuracy : 0.15935496794871795\n",
            "---------------------------------\n",
            "Finished epoch 31\n",
            "---------------------------------\n",
            "Training\n"
          ]
        },
        {
          "name": "stderr",
          "output_type": "stream",
          "text": [
            "100%|██████████| 782/782 [00:26<00:00, 29.00it/s]\n"
          ]
        },
        {
          "name": "stdout",
          "output_type": "stream",
          "text": [
            "Testing\n"
          ]
        },
        {
          "name": "stderr",
          "output_type": "stream",
          "text": [
            "100%|██████████| 157/157 [00:01<00:00, 99.10it/s] \n"
          ]
        },
        {
          "name": "stdout",
          "output_type": "stream",
          "text": [
            "Training Loss : 2.2272935 Test Loss : 2.2648377\n",
            "Training Accuracy : 0.1771366837387964 Test Accuracy : 0.1603565705128205\n",
            "---------------------------------\n",
            "Finished epoch 32\n",
            "---------------------------------\n",
            "Training\n"
          ]
        },
        {
          "name": "stderr",
          "output_type": "stream",
          "text": [
            "100%|██████████| 782/782 [00:26<00:00, 29.02it/s]\n"
          ]
        },
        {
          "name": "stdout",
          "output_type": "stream",
          "text": [
            "Testing\n"
          ]
        },
        {
          "name": "stderr",
          "output_type": "stream",
          "text": [
            "100%|██████████| 157/157 [00:01<00:00, 99.50it/s] \n"
          ]
        },
        {
          "name": "stdout",
          "output_type": "stream",
          "text": [
            "Training Loss : 2.2238903 Test Loss : 2.2621226\n",
            "Training Accuracy : 0.17881722151088347 Test Accuracy : 0.1624599358974359\n",
            "---------------------------------\n",
            "Finished epoch 33\n",
            "---------------------------------\n",
            "Training\n"
          ]
        },
        {
          "name": "stderr",
          "output_type": "stream",
          "text": [
            "100%|██████████| 782/782 [00:27<00:00, 28.95it/s]\n"
          ]
        },
        {
          "name": "stdout",
          "output_type": "stream",
          "text": [
            "Testing\n"
          ]
        },
        {
          "name": "stderr",
          "output_type": "stream",
          "text": [
            "100%|██████████| 157/157 [00:01<00:00, 99.55it/s] \n"
          ]
        },
        {
          "name": "stdout",
          "output_type": "stream",
          "text": [
            "Training Loss : 2.2204883 Test Loss : 2.2592096\n",
            "Training Accuracy : 0.18067781690140844 Test Accuracy : 0.1647636217948718\n",
            "---------------------------------\n",
            "Finished epoch 34\n",
            "---------------------------------\n",
            "Training\n"
          ]
        },
        {
          "name": "stderr",
          "output_type": "stream",
          "text": [
            "100%|██████████| 782/782 [00:26<00:00, 28.99it/s]\n"
          ]
        },
        {
          "name": "stdout",
          "output_type": "stream",
          "text": [
            "Testing\n"
          ]
        },
        {
          "name": "stderr",
          "output_type": "stream",
          "text": [
            "100%|██████████| 157/157 [00:01<00:00, 99.10it/s] \n"
          ]
        },
        {
          "name": "stdout",
          "output_type": "stream",
          "text": [
            "Training Loss : 2.2170515 Test Loss : 2.2561016\n",
            "Training Accuracy : 0.18231834186939821 Test Accuracy : 0.1672676282051282\n",
            "---------------------------------\n",
            "Finished epoch 35\n",
            "---------------------------------\n",
            "Training\n"
          ]
        },
        {
          "name": "stderr",
          "output_type": "stream",
          "text": [
            "100%|██████████| 782/782 [00:26<00:00, 28.97it/s]\n"
          ]
        },
        {
          "name": "stdout",
          "output_type": "stream",
          "text": [
            "Testing\n"
          ]
        },
        {
          "name": "stderr",
          "output_type": "stream",
          "text": [
            "100%|██████████| 157/157 [00:01<00:00, 99.32it/s] \n"
          ]
        },
        {
          "name": "stdout",
          "output_type": "stream",
          "text": [
            "Training Loss : 2.2135866 Test Loss : 2.253755\n",
            "Training Accuracy : 0.18487916133162613 Test Accuracy : 0.17057291666666666\n",
            "---------------------------------\n",
            "Finished epoch 36\n",
            "---------------------------------\n",
            "Training\n"
          ]
        },
        {
          "name": "stderr",
          "output_type": "stream",
          "text": [
            "100%|██████████| 782/782 [00:27<00:00, 28.94it/s]\n"
          ]
        },
        {
          "name": "stdout",
          "output_type": "stream",
          "text": [
            "Testing\n"
          ]
        },
        {
          "name": "stderr",
          "output_type": "stream",
          "text": [
            "100%|██████████| 157/157 [00:01<00:00, 99.17it/s] \n"
          ]
        },
        {
          "name": "stdout",
          "output_type": "stream",
          "text": [
            "Training Loss : 2.2101848 Test Loss : 2.2505543\n",
            "Training Accuracy : 0.18707986555697823 Test Accuracy : 0.17127403846153846\n",
            "---------------------------------\n",
            "Finished epoch 37\n",
            "---------------------------------\n",
            "Training\n"
          ]
        },
        {
          "name": "stderr",
          "output_type": "stream",
          "text": [
            "100%|██████████| 782/782 [00:26<00:00, 28.97it/s]\n"
          ]
        },
        {
          "name": "stdout",
          "output_type": "stream",
          "text": [
            "Testing\n"
          ]
        },
        {
          "name": "stderr",
          "output_type": "stream",
          "text": [
            "100%|██████████| 157/157 [00:01<00:00, 98.87it/s] \n"
          ]
        },
        {
          "name": "stdout",
          "output_type": "stream",
          "text": [
            "Training Loss : 2.206608 Test Loss : 2.2472556\n",
            "Training Accuracy : 0.1889004481434059 Test Accuracy : 0.17267628205128205\n",
            "---------------------------------\n",
            "Finished epoch 38\n",
            "---------------------------------\n",
            "Training\n"
          ]
        },
        {
          "name": "stderr",
          "output_type": "stream",
          "text": [
            "100%|██████████| 782/782 [00:27<00:00, 28.95it/s]\n"
          ]
        },
        {
          "name": "stdout",
          "output_type": "stream",
          "text": [
            "Testing\n"
          ]
        },
        {
          "name": "stderr",
          "output_type": "stream",
          "text": [
            "100%|██████████| 157/157 [00:01<00:00, 99.14it/s] \n"
          ]
        },
        {
          "name": "stdout",
          "output_type": "stream",
          "text": [
            "Training Loss : 2.2030728 Test Loss : 2.2444215\n",
            "Training Accuracy : 0.1903809218950064 Test Accuracy : 0.17457932692307693\n",
            "---------------------------------\n",
            "Finished epoch 39\n",
            "---------------------------------\n",
            "Training\n"
          ]
        },
        {
          "name": "stderr",
          "output_type": "stream",
          "text": [
            "100%|██████████| 782/782 [00:27<00:00, 28.95it/s]\n"
          ]
        },
        {
          "name": "stdout",
          "output_type": "stream",
          "text": [
            "Testing\n"
          ]
        },
        {
          "name": "stderr",
          "output_type": "stream",
          "text": [
            "100%|██████████| 157/157 [00:01<00:00, 99.63it/s] \n"
          ]
        },
        {
          "name": "stdout",
          "output_type": "stream",
          "text": [
            "Training Loss : 2.199595 Test Loss : 2.2411249\n",
            "Training Accuracy : 0.19212147887323944 Test Accuracy : 0.1750801282051282\n",
            "---------------------------------\n",
            "Finished epoch 40\n",
            "---------------------------------\n",
            "Training\n"
          ]
        },
        {
          "name": "stderr",
          "output_type": "stream",
          "text": [
            "100%|██████████| 782/782 [00:27<00:00, 28.96it/s]\n"
          ]
        },
        {
          "name": "stdout",
          "output_type": "stream",
          "text": [
            "Testing\n"
          ]
        },
        {
          "name": "stderr",
          "output_type": "stream",
          "text": [
            "100%|██████████| 157/157 [00:01<00:00, 98.88it/s] \n"
          ]
        },
        {
          "name": "stdout",
          "output_type": "stream",
          "text": [
            "Training Loss : 2.1961331 Test Loss : 2.2377837\n",
            "Training Accuracy : 0.19364196542893725 Test Accuracy : 0.17708333333333334\n",
            "---------------------------------\n",
            "Finished epoch 41\n",
            "---------------------------------\n",
            "Training\n"
          ]
        },
        {
          "name": "stderr",
          "output_type": "stream",
          "text": [
            "100%|██████████| 782/782 [00:26<00:00, 28.98it/s]\n"
          ]
        },
        {
          "name": "stdout",
          "output_type": "stream",
          "text": [
            "Testing\n"
          ]
        },
        {
          "name": "stderr",
          "output_type": "stream",
          "text": [
            "100%|██████████| 157/157 [00:01<00:00, 99.45it/s] \n"
          ]
        },
        {
          "name": "stdout",
          "output_type": "stream",
          "text": [
            "Training Loss : 2.1926236 Test Loss : 2.2344599\n",
            "Training Accuracy : 0.19554257362355953 Test Accuracy : 0.17868589743589744\n",
            "---------------------------------\n",
            "Finished epoch 42\n",
            "---------------------------------\n",
            "Training\n"
          ]
        },
        {
          "name": "stderr",
          "output_type": "stream",
          "text": [
            "100%|██████████| 782/782 [00:26<00:00, 28.99it/s]\n"
          ]
        },
        {
          "name": "stdout",
          "output_type": "stream",
          "text": [
            "Testing\n"
          ]
        },
        {
          "name": "stderr",
          "output_type": "stream",
          "text": [
            "100%|██████████| 157/157 [00:01<00:00, 99.30it/s] \n"
          ]
        },
        {
          "name": "stdout",
          "output_type": "stream",
          "text": [
            "Training Loss : 2.1892369 Test Loss : 2.2309954\n",
            "Training Accuracy : 0.19730313700384122 Test Accuracy : 0.18028846153846154\n",
            "---------------------------------\n",
            "Finished epoch 43\n",
            "---------------------------------\n",
            "Training\n"
          ]
        },
        {
          "name": "stderr",
          "output_type": "stream",
          "text": [
            "100%|██████████| 782/782 [00:26<00:00, 29.00it/s]\n"
          ]
        },
        {
          "name": "stdout",
          "output_type": "stream",
          "text": [
            "Testing\n"
          ]
        },
        {
          "name": "stderr",
          "output_type": "stream",
          "text": [
            "100%|██████████| 157/157 [00:01<00:00, 99.89it/s] \n"
          ]
        },
        {
          "name": "stdout",
          "output_type": "stream",
          "text": [
            "Training Loss : 2.185834 Test Loss : 2.2281303\n",
            "Training Accuracy : 0.19824343790012805 Test Accuracy : 0.18189102564102563\n",
            "---------------------------------\n",
            "Finished epoch 44\n",
            "---------------------------------\n",
            "Training\n"
          ]
        },
        {
          "name": "stderr",
          "output_type": "stream",
          "text": [
            "100%|██████████| 782/782 [00:26<00:00, 28.97it/s]\n"
          ]
        },
        {
          "name": "stdout",
          "output_type": "stream",
          "text": [
            "Testing\n"
          ]
        },
        {
          "name": "stderr",
          "output_type": "stream",
          "text": [
            "100%|██████████| 157/157 [00:01<00:00, 99.20it/s] \n"
          ]
        },
        {
          "name": "stdout",
          "output_type": "stream",
          "text": [
            "Training Loss : 2.1823251 Test Loss : 2.225111\n",
            "Training Accuracy : 0.19998399487836108 Test Accuracy : 0.18319310897435898\n",
            "---------------------------------\n",
            "Finished epoch 45\n",
            "---------------------------------\n",
            "Training\n"
          ]
        },
        {
          "name": "stderr",
          "output_type": "stream",
          "text": [
            "100%|██████████| 782/782 [00:27<00:00, 28.96it/s]\n"
          ]
        },
        {
          "name": "stdout",
          "output_type": "stream",
          "text": [
            "Testing\n"
          ]
        },
        {
          "name": "stderr",
          "output_type": "stream",
          "text": [
            "100%|██████████| 157/157 [00:01<00:00, 99.11it/s] \n"
          ]
        },
        {
          "name": "stdout",
          "output_type": "stream",
          "text": [
            "Training Loss : 2.1788554 Test Loss : 2.2217078\n",
            "Training Accuracy : 0.20112435979513443 Test Accuracy : 0.18629807692307693\n",
            "---------------------------------\n",
            "Finished epoch 46\n",
            "---------------------------------\n",
            "Training\n"
          ]
        },
        {
          "name": "stderr",
          "output_type": "stream",
          "text": [
            "100%|██████████| 782/782 [00:26<00:00, 28.98it/s]\n"
          ]
        },
        {
          "name": "stdout",
          "output_type": "stream",
          "text": [
            "Testing\n"
          ]
        },
        {
          "name": "stderr",
          "output_type": "stream",
          "text": [
            "100%|██████████| 157/157 [00:01<00:00, 99.55it/s] \n"
          ]
        },
        {
          "name": "stdout",
          "output_type": "stream",
          "text": [
            "Training Loss : 2.1752899 Test Loss : 2.2186034\n",
            "Training Accuracy : 0.20306498079385404 Test Accuracy : 0.18840144230769232\n",
            "---------------------------------\n",
            "Finished epoch 47\n",
            "---------------------------------\n",
            "Training\n"
          ]
        },
        {
          "name": "stderr",
          "output_type": "stream",
          "text": [
            "100%|██████████| 782/782 [00:27<00:00, 28.96it/s]\n"
          ]
        },
        {
          "name": "stdout",
          "output_type": "stream",
          "text": [
            "Testing\n"
          ]
        },
        {
          "name": "stderr",
          "output_type": "stream",
          "text": [
            "100%|██████████| 157/157 [00:01<00:00, 98.86it/s] \n"
          ]
        },
        {
          "name": "stdout",
          "output_type": "stream",
          "text": [
            "Training Loss : 2.171756 Test Loss : 2.2158601\n",
            "Training Accuracy : 0.2044654289372599 Test Accuracy : 0.18950320512820512\n",
            "---------------------------------\n",
            "Finished epoch 48\n",
            "---------------------------------\n",
            "Training\n"
          ]
        },
        {
          "name": "stderr",
          "output_type": "stream",
          "text": [
            "100%|██████████| 782/782 [00:26<00:00, 28.98it/s]\n"
          ]
        },
        {
          "name": "stdout",
          "output_type": "stream",
          "text": [
            "Testing\n"
          ]
        },
        {
          "name": "stderr",
          "output_type": "stream",
          "text": [
            "100%|██████████| 157/157 [00:01<00:00, 99.12it/s] \n"
          ]
        },
        {
          "name": "stdout",
          "output_type": "stream",
          "text": [
            "Training Loss : 2.1681526 Test Loss : 2.2126884\n",
            "Training Accuracy : 0.20584587067861715 Test Accuracy : 0.1912059294871795\n",
            "---------------------------------\n",
            "Finished epoch 49\n",
            "---------------------------------\n",
            "Training\n"
          ]
        },
        {
          "name": "stderr",
          "output_type": "stream",
          "text": [
            "100%|██████████| 782/782 [00:26<00:00, 29.00it/s]\n"
          ]
        },
        {
          "name": "stdout",
          "output_type": "stream",
          "text": [
            "Testing\n"
          ]
        },
        {
          "name": "stderr",
          "output_type": "stream",
          "text": [
            "100%|██████████| 157/157 [00:01<00:00, 99.64it/s] \n"
          ]
        },
        {
          "name": "stdout",
          "output_type": "stream",
          "text": [
            "Training Loss : 2.1645455 Test Loss : 2.2091312\n",
            "Training Accuracy : 0.20748639564660692 Test Accuracy : 0.19381009615384615\n",
            "---------------------------------\n",
            "Finished epoch 50\n",
            "---------------------------------\n"
          ]
        }
      ],
      "source": [
        "from tqdm import tqdm\n",
        "loss_storage = []\n",
        "test_loss_storage = []\n",
        "training_accuracy = []\n",
        "test_accuracy = []\n",
        "for epoch in range(epochs):\n",
        "    loss_epoch = 0\n",
        "    test_loss_epoch = 0\n",
        "    accuracy_epoch = 0\n",
        "    test_accuracy_epoch = 0\n",
        "    print('Training')\n",
        "    for idx in tqdm(range(0, len(x_train), images_per_batch)):\n",
        "\n",
        "        input_batch = x_train[idx:idx+images_per_batch]\n",
        "        y_actual = y_train[idx:idx+images_per_batch]\n",
        "        loss = NeuralNetwork.forward(input_batch, y_actual, cupy.float32(1e-3))\n",
        "        _, accuracy = NeuralNetwork.evaluate(input_batch, y_actual)\n",
        "        \n",
        "        loss_epoch += loss\n",
        "        accuracy_epoch += accuracy\n",
        "\n",
        "    print('Testing')\n",
        "\n",
        "    for idx in tqdm(range(0, len(x_test), images_per_batch)):\n",
        "\n",
        "        input_batch = x_test[idx:idx+images_per_batch]\n",
        "        y_actual = y_test[idx:idx+images_per_batch]\n",
        "        loss, accuracy = NeuralNetwork.evaluate(input_batch, y_actual)\n",
        "        \n",
        "        test_loss_epoch += loss\n",
        "        test_accuracy_epoch += accuracy\n",
        "\n",
        "\n",
        "    print(\"Training Loss :\", loss_epoch/(len(x_train)//images_per_batch), \"Test Loss :\", test_loss_epoch/(len(x_test)//images_per_batch))\n",
        "    print(\"Training Accuracy :\", accuracy_epoch/(len(x_train)//images_per_batch), \"Test Accuracy :\", test_accuracy_epoch/(len(x_test)//images_per_batch))\n",
        "\n",
        "    loss_storage.append(loss_epoch/(len(x_train)//images_per_batch))\n",
        "    test_loss_storage.append(test_loss_epoch/(len(x_test)//images_per_batch))\n",
        "    training_accuracy.append(accuracy_epoch/(len(x_train)//images_per_batch))\n",
        "    test_accuracy.append(test_accuracy_epoch/(len(x_test)//images_per_batch))\n",
        "    \n",
        "    print('---------------------------------\\nFinished epoch %d\\n---------------------------------' % (epoch+1))"
      ]
    },
    {
      "cell_type": "markdown",
      "metadata": {
        "id": "yhrJv1j2CXHO"
      },
      "source": [
        "# Visualizing the loss"
      ]
    },
    {
      "cell_type": "code",
      "execution_count": null,
      "metadata": {
        "colab": {
          "base_uri": "https://localhost:8080/",
          "height": 892
        },
        "id": "VGuauJwdOShV",
        "outputId": "7223c3b0-06a5-45e9-e303-2c93600cb582"
      },
      "outputs": [
        {
          "data": {
            "image/png": "[encoded data removed]",
            "text/plain": [
              "<Figure size 1080x1080 with 1 Axes>"
            ]
          },
          "metadata": {
            "needs_background": "light"
          },
          "output_type": "display_data"
        }
      ],
      "source": [
        "loss_storage = np.array([float(i) for i in loss_storage])\n",
        "test_loss_storage = np.array([float(i) for i in test_loss_storage])\n",
        "plt.figure(figsize= (15,15))\n",
        "plt.plot(np.arange(len(loss_storage)), loss_storage, label = 'Training')\n",
        "plt.plot(np.arange(len(test_loss_storage)), test_loss_storage, label = 'Test')\n",
        "plt.title('Loss')\n",
        "plt.xlabel('Number of epochs')\n",
        "plt.ylabel('Loss')\n",
        "plt.show()"
      ]
    },
    {
      "cell_type": "markdown",
      "metadata": {
        "id": "lSWARbVQPSAN"
      },
      "source": [
        "# Visualizing the Accuracy"
      ]
    },
    {
      "cell_type": "code",
      "execution_count": null,
      "metadata": {
        "colab": {
          "base_uri": "https://localhost:8080/",
          "height": 892
        },
        "id": "W3GHgB2eM-Ek",
        "outputId": "1d320dc0-cbe7-409b-fa9c-dbee8c6efeff"
      },
      "outputs": [
        {
          "data": {
            "image/png": "[encoded data removed]",
            "text/plain": [
              "<Figure size 1080x1080 with 1 Axes>"
            ]
          },
          "metadata": {
            "needs_background": "light"
          },
          "output_type": "display_data"
        }
      ],
      "source": [
        "accuracy_storage = np.array([float(i) for i in training_accuracy])\n",
        "test_accuracy_storage = np.array([float(i) for i in test_accuracy])\n",
        "plt.figure(figsize= (15,15))\n",
        "plt.plot(np.arange(len(accuracy_storage)), accuracy_storage, label = 'Training')\n",
        "plt.plot(np.arange(len(test_accuracy_storage)), test_accuracy_storage, label = 'Test')\n",
        "plt.title('Accuracy')\n",
        "plt.xlabel('Number of epochs')\n",
        "plt.ylabel('accuracy')\n",
        "plt.legend()\n",
        "plt.show()"
      ]
    },
    {
      "cell_type": "markdown",
      "metadata": {
        "id": "3CPhf3t6Cmxn"
      },
      "source": [
        "# Model: loss and accuracy"
      ]
    },
    {
      "cell_type": "code",
      "execution_count": null,
      "metadata": {
        "colab": {
          "base_uri": "https://localhost:8080/"
        },
        "id": "ZXmZV-rGSDhi",
        "outputId": "efe44bb6-5f0a-4914-cb7b-cd6f35cbaa0b"
      },
      "outputs": [
        {
          "name": "stdout",
          "output_type": "stream",
          "text": [
            "Loss:  2.0081336\n",
            "Accuracy:  0.2\n"
          ]
        }
      ],
      "source": [
        "#calculation of test loss and accuracy\n",
        "idx_list = np.random.choice(10000, (10,), replace=False)\n",
        "x_test_vals = x_test[idx_list]\n",
        "y_test_vals = y_test[idx_list]\n",
        "loss, accuracy = NeuralNetwork.evaluate(x_test_vals, y_test_vals)\n",
        "print('Loss: ', loss)\n",
        "print('Accuracy: ', accuracy)"
      ]
    }
  ],
  "metadata": {
    "accelerator": "GPU",
    "colab": {
      "collapsed_sections": [],
      "name": "aibd_assignment2_q1.ipynb",
      "provenance": []
    },
    "kernelspec": {
      "display_name": "Python 3",
      "name": "python3"
    },
    "language_info": {
      "name": "python"
    }
  },
  "nbformat": 4,
  "nbformat_minor": 0
}
